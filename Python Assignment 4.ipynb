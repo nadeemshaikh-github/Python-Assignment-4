{
 "cells": [
  {
   "cell_type": "markdown",
   "metadata": {},
   "source": [
    "# Python Assignment 4"
   ]
  },
  {
   "cell_type": "markdown",
   "metadata": {},
   "source": [
    "#### 1.1 Write a Python Program(with class concepts) to find the area of the triangle using the below formula.\n",
    "#### area = (s*(s-a)*(s-b)*(s-c)) ** 0.5\n",
    "#### Function to take the length of the sides of triangle from user should be defined in the parent class and function to calculate the area should be defined in subclass."
   ]
  },
  {
   "cell_type": "code",
   "execution_count": 1,
   "metadata": {},
   "outputs": [
    {
     "name": "stdout",
     "output_type": "stream",
     "text": [
      "a = 5\n",
      "b = 5\n",
      "c = 5\n",
      "Area of Triangle : 10.825317547305483\n"
     ]
    }
   ],
   "source": [
    "class parentclass:\n",
    "    def __init__(self,a,b,c):\n",
    "        self.a = a\n",
    "        self.b = b\n",
    "        self.c = c\n",
    "        \n",
    "a = int(input('a = '))\n",
    "b = int(input('b = '))\n",
    "c = int(input('c = '))\n",
    "        \n",
    "class childclass(parentclass):\n",
    "    def __init__(self,a,b,c):\n",
    "        parentclass.__init__(self,a,b,c)\n",
    "        \n",
    "    def area_of_triangle(self):\n",
    "        s = (a+b+c)/2\n",
    "        return (s*(s-a)*(s-b)*(s-c))**0.5\n",
    "    \n",
    "t = childclass(a,b,c)\n",
    "print('Area of Triangle : {}'.format(t.area_of_triangle()))"
   ]
  },
  {
   "cell_type": "markdown",
   "metadata": {},
   "source": [
    "_______"
   ]
  },
  {
   "cell_type": "markdown",
   "metadata": {},
   "source": [
    "**1.2 Write a function filter_long_words() that takes a list of words and an integer n and returns the list of words that are longer than n.**"
   ]
  },
  {
   "cell_type": "code",
   "execution_count": 23,
   "metadata": {},
   "outputs": [
    {
     "name": "stdout",
     "output_type": "stream",
     "text": [
      "Enter words, separated by space: a bb ccc dddd eeeee\n",
      "Minimum length of words to keep: 3\n",
      "Words longer than 3 are dddd, eeeee\n"
     ]
    }
   ],
   "source": [
    "def filter_long_words(wordlist, length):\n",
    "    return(word for word in wordlist if len(word)>length)\n",
    "\n",
    "def main():\n",
    "    words = input('Enter words, separated by space: ').split()\n",
    "    length = int(input('Minimum length of words to keep: '))\n",
    "    print('Words longer than {} are {}'.format(length, ', '.join(filter_long_words(words,length))))\n",
    "\n",
    "main()"
   ]
  },
  {
   "cell_type": "markdown",
   "metadata": {},
   "source": [
    "______"
   ]
  },
  {
   "cell_type": "markdown",
   "metadata": {},
   "source": [
    "**2.1 Write a Python program using function concept that maps list of words into a list of integers representing the lengths of the corresponding words.**\n",
    "\n",
    "**Hint: If a list [ ab,cde,erty] is passed on to the python function output should come as [2,3,4]**\n",
    "\n",
    "**Here 2,3 and 4 are the lengths of the words in the list**"
   ]
  },
  {
   "cell_type": "code",
   "execution_count": 42,
   "metadata": {},
   "outputs": [
    {
     "name": "stdout",
     "output_type": "stream",
     "text": [
      "List of words: a bb ccc dddd eeeee\n",
      "List of word length:  [1, 2, 3, 4, 5]\n"
     ]
    }
   ],
   "source": [
    "listOfWords = input('List of words: ').split()\n",
    "listOfInt = []\n",
    "\n",
    "for i in range(len(listOfWords)):\n",
    "    listOfInt.append(len(listOfWords[i]))\n",
    "    \n",
    "print('List of word length: ',listOfInt)"
   ]
  },
  {
   "cell_type": "markdown",
   "metadata": {},
   "source": [
    "______"
   ]
  },
  {
   "cell_type": "markdown",
   "metadata": {},
   "source": [
    "**2.2 Write a Python function which takes a character (i.e. a string of length 1) and returns True if it is a vowel, False otherwise.**"
   ]
  },
  {
   "cell_type": "code",
   "execution_count": 41,
   "metadata": {},
   "outputs": [],
   "source": [
    "def vowel(char):\n",
    "    if char.lower() in 'aeiou' or char.upper() in 'AEIOU':\n",
    "        return True\n",
    "    else:\n",
    "        return False"
   ]
  },
  {
   "cell_type": "code",
   "execution_count": 51,
   "metadata": {},
   "outputs": [
    {
     "data": {
      "text/plain": [
       "True"
      ]
     },
     "execution_count": 51,
     "metadata": {},
     "output_type": "execute_result"
    }
   ],
   "source": [
    "vowel('i')"
   ]
  }
 ],
 "metadata": {
  "kernelspec": {
   "display_name": "Python 3",
   "language": "python",
   "name": "python3"
  },
  "language_info": {
   "codemirror_mode": {
    "name": "ipython",
    "version": 3
   },
   "file_extension": ".py",
   "mimetype": "text/x-python",
   "name": "python",
   "nbconvert_exporter": "python",
   "pygments_lexer": "ipython3",
   "version": "3.8.3"
  }
 },
 "nbformat": 4,
 "nbformat_minor": 4
}
